{
 "cells": [
  {
   "cell_type": "code",
   "execution_count": null,
   "metadata": {},
   "outputs": [],
   "source": [
    "# First, run the tic_tac_toe notebook"
   ]
  },
  {
   "cell_type": "code",
   "execution_count": 1,
   "metadata": {},
   "outputs": [],
   "source": [
    "%run tic_tac_toe.ipynb\n",
    "# if on a regular notebook, not Jupyter:\n",
    "# from tic_tac_toe.py import *"
   ]
  },
  {
   "cell_type": "code",
   "execution_count": 2,
   "metadata": {},
   "outputs": [],
   "source": [
    "# Playing either against computer or computer against itself"
   ]
  },
  {
   "cell_type": "code",
   "execution_count": 3,
   "metadata": {},
   "outputs": [],
   "source": [
    "my_board = [\n",
    "\t[\"1\", \"2\", \"3\"],\n",
    "\t[\"4\", \"5\", \"6\"],\n",
    "\t[\"7\", \"8\", \"9\"]\n",
    "]\n",
    "\n",
    "\n"
   ]
  },
  {
   "cell_type": "code",
   "execution_count": 5,
   "metadata": {},
   "outputs": [
    {
     "name": "stdout",
     "output_type": "stream",
     "text": [
      "9 O\n"
     ]
    }
   ],
   "source": [
    "# 1st option:\n",
    "# Playing against computer as X player, computer being O\n",
    "# First, enter your X on my_board, then run this line of code to see what \n",
    "# the computer should be playing. Indicate \"O\" where computer chose.\n",
    "print(minimax(my_board, False)[1], \"O\")"
   ]
  },
  {
   "cell_type": "code",
   "execution_count": 6,
   "metadata": {},
   "outputs": [
    {
     "name": "stdout",
     "output_type": "stream",
     "text": [
      "|-------------|\n",
      "| Tic Tac Toe |\n",
      "|-------------|\n",
      "|             |\n",
      "|    1 2 3    |\n",
      "|    4 5 6    |\n",
      "|    7 8 X    |\n",
      "|             |\n",
      "|-------------|\n",
      "\n",
      "|-------------|\n",
      "| Tic Tac Toe |\n",
      "|-------------|\n",
      "|             |\n",
      "|    1 2 3    |\n",
      "|    4 5 6    |\n",
      "|    7 O X    |\n",
      "|             |\n",
      "|-------------|\n",
      "\n",
      "|-------------|\n",
      "| Tic Tac Toe |\n",
      "|-------------|\n",
      "|             |\n",
      "|    1 2 3    |\n",
      "|    4 5 6    |\n",
      "|    X O X    |\n",
      "|             |\n",
      "|-------------|\n",
      "\n",
      "|-------------|\n",
      "| Tic Tac Toe |\n",
      "|-------------|\n",
      "|             |\n",
      "|    1 2 3    |\n",
      "|    4 5 O    |\n",
      "|    X O X    |\n",
      "|             |\n",
      "|-------------|\n",
      "\n",
      "|-------------|\n",
      "| Tic Tac Toe |\n",
      "|-------------|\n",
      "|             |\n",
      "|    1 2 3    |\n",
      "|    4 X O    |\n",
      "|    X O X    |\n",
      "|             |\n",
      "|-------------|\n",
      "\n",
      "|-------------|\n",
      "| Tic Tac Toe |\n",
      "|-------------|\n",
      "|             |\n",
      "|    1 2 3    |\n",
      "|    O X O    |\n",
      "|    X O X    |\n",
      "|             |\n",
      "|-------------|\n",
      "\n",
      "|-------------|\n",
      "| Tic Tac Toe |\n",
      "|-------------|\n",
      "|             |\n",
      "|    1 2 X    |\n",
      "|    O X O    |\n",
      "|    X O X    |\n",
      "|             |\n",
      "|-------------|\n",
      "\n"
     ]
    }
   ],
   "source": [
    "# 2nd option: \n",
    "# Computer playing itself \n",
    "while not game_is_over(my_board):\n",
    "    select_space(my_board, minimax(my_board, True)[1], \"X\")\n",
    "    print_board(my_board)\n",
    "    if not game_is_over(my_board):\n",
    "        select_space(my_board, minimax(my_board, False)[1], \"O\")\n",
    "        print_board(my_board)  "
   ]
  },
  {
   "cell_type": "code",
   "execution_count": null,
   "metadata": {},
   "outputs": [],
   "source": []
  }
 ],
 "metadata": {
  "kernelspec": {
   "display_name": "Python 3",
   "language": "python",
   "name": "python3"
  },
  "language_info": {
   "codemirror_mode": {
    "name": "ipython",
    "version": 3
   },
   "file_extension": ".py",
   "mimetype": "text/x-python",
   "name": "python",
   "nbconvert_exporter": "python",
   "pygments_lexer": "ipython3",
   "version": "3.7.4"
  }
 },
 "nbformat": 4,
 "nbformat_minor": 2
}
