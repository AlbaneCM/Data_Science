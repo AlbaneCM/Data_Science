{
 "cells": [
  {
   "cell_type": "markdown",
   "metadata": {},
   "source": [
    "## Machine Learning Summary Project\n",
    "### Data from OKCupid<br>\n",
    "https://www.codecademy.com/paths/data-science/tracks/machine-learning-capstone-skill-path/modules/machine-learning-capstone-project-skill-path/informationals/date-a-scientist-skill-path "
   ]
  },
  {
   "cell_type": "code",
   "execution_count": 1,
   "metadata": {},
   "outputs": [],
   "source": [
    "import pandas as pd\n",
    "import numpy as np\n",
    "from matplotlib import pyplot as plt\n",
    "import seaborn as sns"
   ]
  },
  {
   "cell_type": "code",
   "execution_count": 2,
   "metadata": {},
   "outputs": [],
   "source": [
    "# Loading the dataframe\n",
    "df = pd.read_csv(\"profiles.csv\")"
   ]
  },
  {
   "cell_type": "code",
   "execution_count": 3,
   "metadata": {},
   "outputs": [
    {
     "data": {
      "text/html": [
       "<div>\n",
       "<style scoped>\n",
       "    .dataframe tbody tr th:only-of-type {\n",
       "        vertical-align: middle;\n",
       "    }\n",
       "\n",
       "    .dataframe tbody tr th {\n",
       "        vertical-align: top;\n",
       "    }\n",
       "\n",
       "    .dataframe thead th {\n",
       "        text-align: right;\n",
       "    }\n",
       "</style>\n",
       "<table border=\"1\" class=\"dataframe\">\n",
       "  <thead>\n",
       "    <tr style=\"text-align: right;\">\n",
       "      <th></th>\n",
       "      <th>age</th>\n",
       "      <th>body_type</th>\n",
       "      <th>diet</th>\n",
       "      <th>drinks</th>\n",
       "      <th>drugs</th>\n",
       "      <th>education</th>\n",
       "      <th>essay0</th>\n",
       "      <th>essay1</th>\n",
       "      <th>essay2</th>\n",
       "      <th>essay3</th>\n",
       "      <th>...</th>\n",
       "      <th>location</th>\n",
       "      <th>offspring</th>\n",
       "      <th>orientation</th>\n",
       "      <th>pets</th>\n",
       "      <th>religion</th>\n",
       "      <th>sex</th>\n",
       "      <th>sign</th>\n",
       "      <th>smokes</th>\n",
       "      <th>speaks</th>\n",
       "      <th>status</th>\n",
       "    </tr>\n",
       "  </thead>\n",
       "  <tbody>\n",
       "    <tr>\n",
       "      <th>0</th>\n",
       "      <td>22</td>\n",
       "      <td>a little extra</td>\n",
       "      <td>strictly anything</td>\n",
       "      <td>socially</td>\n",
       "      <td>never</td>\n",
       "      <td>working on college/university</td>\n",
       "      <td>about me:&lt;br /&gt;\\n&lt;br /&gt;\\ni would love to think...</td>\n",
       "      <td>currently working as an international agent fo...</td>\n",
       "      <td>making people laugh.&lt;br /&gt;\\nranting about a go...</td>\n",
       "      <td>the way i look. i am a six foot half asian, ha...</td>\n",
       "      <td>...</td>\n",
       "      <td>south san francisco, california</td>\n",
       "      <td>doesn&amp;rsquo;t have kids, but might want them</td>\n",
       "      <td>straight</td>\n",
       "      <td>likes dogs and likes cats</td>\n",
       "      <td>agnosticism and very serious about it</td>\n",
       "      <td>m</td>\n",
       "      <td>gemini</td>\n",
       "      <td>sometimes</td>\n",
       "      <td>english</td>\n",
       "      <td>single</td>\n",
       "    </tr>\n",
       "    <tr>\n",
       "      <th>1</th>\n",
       "      <td>35</td>\n",
       "      <td>average</td>\n",
       "      <td>mostly other</td>\n",
       "      <td>often</td>\n",
       "      <td>sometimes</td>\n",
       "      <td>working on space camp</td>\n",
       "      <td>i am a chef: this is what that means.&lt;br /&gt;\\n1...</td>\n",
       "      <td>dedicating everyday to being an unbelievable b...</td>\n",
       "      <td>being silly. having ridiculous amonts of fun w...</td>\n",
       "      <td>NaN</td>\n",
       "      <td>...</td>\n",
       "      <td>oakland, california</td>\n",
       "      <td>doesn&amp;rsquo;t have kids, but might want them</td>\n",
       "      <td>straight</td>\n",
       "      <td>likes dogs and likes cats</td>\n",
       "      <td>agnosticism but not too serious about it</td>\n",
       "      <td>m</td>\n",
       "      <td>cancer</td>\n",
       "      <td>no</td>\n",
       "      <td>english (fluently), spanish (poorly), french (...</td>\n",
       "      <td>single</td>\n",
       "    </tr>\n",
       "    <tr>\n",
       "      <th>2</th>\n",
       "      <td>38</td>\n",
       "      <td>thin</td>\n",
       "      <td>anything</td>\n",
       "      <td>socially</td>\n",
       "      <td>NaN</td>\n",
       "      <td>graduated from masters program</td>\n",
       "      <td>i'm not ashamed of much, but writing public te...</td>\n",
       "      <td>i make nerdy software for musicians, artists, ...</td>\n",
       "      <td>improvising in different contexts. alternating...</td>\n",
       "      <td>my large jaw and large glasses are the physica...</td>\n",
       "      <td>...</td>\n",
       "      <td>san francisco, california</td>\n",
       "      <td>NaN</td>\n",
       "      <td>straight</td>\n",
       "      <td>has cats</td>\n",
       "      <td>NaN</td>\n",
       "      <td>m</td>\n",
       "      <td>pisces but it doesn&amp;rsquo;t matter</td>\n",
       "      <td>no</td>\n",
       "      <td>english, french, c++</td>\n",
       "      <td>available</td>\n",
       "    </tr>\n",
       "    <tr>\n",
       "      <th>3</th>\n",
       "      <td>23</td>\n",
       "      <td>thin</td>\n",
       "      <td>vegetarian</td>\n",
       "      <td>socially</td>\n",
       "      <td>NaN</td>\n",
       "      <td>working on college/university</td>\n",
       "      <td>i work in a library and go to school. . .</td>\n",
       "      <td>reading things written by old dead people</td>\n",
       "      <td>playing synthesizers and organizing books acco...</td>\n",
       "      <td>socially awkward but i do my best</td>\n",
       "      <td>...</td>\n",
       "      <td>berkeley, california</td>\n",
       "      <td>doesn&amp;rsquo;t want kids</td>\n",
       "      <td>straight</td>\n",
       "      <td>likes cats</td>\n",
       "      <td>NaN</td>\n",
       "      <td>m</td>\n",
       "      <td>pisces</td>\n",
       "      <td>no</td>\n",
       "      <td>english, german (poorly)</td>\n",
       "      <td>single</td>\n",
       "    </tr>\n",
       "    <tr>\n",
       "      <th>4</th>\n",
       "      <td>29</td>\n",
       "      <td>athletic</td>\n",
       "      <td>NaN</td>\n",
       "      <td>socially</td>\n",
       "      <td>never</td>\n",
       "      <td>graduated from college/university</td>\n",
       "      <td>hey how's it going? currently vague on the pro...</td>\n",
       "      <td>work work work work + play</td>\n",
       "      <td>creating imagery to look at:&lt;br /&gt;\\nhttp://bag...</td>\n",
       "      <td>i smile a lot and my inquisitive nature</td>\n",
       "      <td>...</td>\n",
       "      <td>san francisco, california</td>\n",
       "      <td>NaN</td>\n",
       "      <td>straight</td>\n",
       "      <td>likes dogs and likes cats</td>\n",
       "      <td>NaN</td>\n",
       "      <td>m</td>\n",
       "      <td>aquarius</td>\n",
       "      <td>no</td>\n",
       "      <td>english</td>\n",
       "      <td>single</td>\n",
       "    </tr>\n",
       "  </tbody>\n",
       "</table>\n",
       "<p>5 rows × 31 columns</p>\n",
       "</div>"
      ],
      "text/plain": [
       "   age       body_type               diet    drinks      drugs  \\\n",
       "0   22  a little extra  strictly anything  socially      never   \n",
       "1   35         average       mostly other     often  sometimes   \n",
       "2   38            thin           anything  socially        NaN   \n",
       "3   23            thin         vegetarian  socially        NaN   \n",
       "4   29        athletic                NaN  socially      never   \n",
       "\n",
       "                           education  \\\n",
       "0      working on college/university   \n",
       "1              working on space camp   \n",
       "2     graduated from masters program   \n",
       "3      working on college/university   \n",
       "4  graduated from college/university   \n",
       "\n",
       "                                              essay0  \\\n",
       "0  about me:<br />\\n<br />\\ni would love to think...   \n",
       "1  i am a chef: this is what that means.<br />\\n1...   \n",
       "2  i'm not ashamed of much, but writing public te...   \n",
       "3          i work in a library and go to school. . .   \n",
       "4  hey how's it going? currently vague on the pro...   \n",
       "\n",
       "                                              essay1  \\\n",
       "0  currently working as an international agent fo...   \n",
       "1  dedicating everyday to being an unbelievable b...   \n",
       "2  i make nerdy software for musicians, artists, ...   \n",
       "3          reading things written by old dead people   \n",
       "4                         work work work work + play   \n",
       "\n",
       "                                              essay2  \\\n",
       "0  making people laugh.<br />\\nranting about a go...   \n",
       "1  being silly. having ridiculous amonts of fun w...   \n",
       "2  improvising in different contexts. alternating...   \n",
       "3  playing synthesizers and organizing books acco...   \n",
       "4  creating imagery to look at:<br />\\nhttp://bag...   \n",
       "\n",
       "                                              essay3  ...  \\\n",
       "0  the way i look. i am a six foot half asian, ha...  ...   \n",
       "1                                                NaN  ...   \n",
       "2  my large jaw and large glasses are the physica...  ...   \n",
       "3                  socially awkward but i do my best  ...   \n",
       "4            i smile a lot and my inquisitive nature  ...   \n",
       "\n",
       "                          location  \\\n",
       "0  south san francisco, california   \n",
       "1              oakland, california   \n",
       "2        san francisco, california   \n",
       "3             berkeley, california   \n",
       "4        san francisco, california   \n",
       "\n",
       "                                      offspring orientation  \\\n",
       "0  doesn&rsquo;t have kids, but might want them    straight   \n",
       "1  doesn&rsquo;t have kids, but might want them    straight   \n",
       "2                                           NaN    straight   \n",
       "3                       doesn&rsquo;t want kids    straight   \n",
       "4                                           NaN    straight   \n",
       "\n",
       "                        pets                                  religion sex  \\\n",
       "0  likes dogs and likes cats     agnosticism and very serious about it   m   \n",
       "1  likes dogs and likes cats  agnosticism but not too serious about it   m   \n",
       "2                   has cats                                       NaN   m   \n",
       "3                 likes cats                                       NaN   m   \n",
       "4  likes dogs and likes cats                                       NaN   m   \n",
       "\n",
       "                                 sign     smokes  \\\n",
       "0                              gemini  sometimes   \n",
       "1                              cancer         no   \n",
       "2  pisces but it doesn&rsquo;t matter         no   \n",
       "3                              pisces         no   \n",
       "4                            aquarius         no   \n",
       "\n",
       "                                              speaks     status  \n",
       "0                                            english     single  \n",
       "1  english (fluently), spanish (poorly), french (...     single  \n",
       "2                               english, french, c++  available  \n",
       "3                           english, german (poorly)     single  \n",
       "4                                            english     single  \n",
       "\n",
       "[5 rows x 31 columns]"
      ]
     },
     "execution_count": 3,
     "metadata": {},
     "output_type": "execute_result"
    }
   ],
   "source": [
    "# Exploring the data\n",
    "df.head()"
   ]
  },
  {
   "cell_type": "code",
   "execution_count": 4,
   "metadata": {},
   "outputs": [
    {
     "data": {
      "text/plain": [
       "Index(['age', 'body_type', 'diet', 'drinks', 'drugs', 'education', 'essay0',\n",
       "       'essay1', 'essay2', 'essay3', 'essay4', 'essay5', 'essay6', 'essay7',\n",
       "       'essay8', 'essay9', 'ethnicity', 'height', 'income', 'job',\n",
       "       'last_online', 'location', 'offspring', 'orientation', 'pets',\n",
       "       'religion', 'sex', 'sign', 'smokes', 'speaks', 'status'],\n",
       "      dtype='object')"
      ]
     },
     "execution_count": 4,
     "metadata": {},
     "output_type": "execute_result"
    }
   ],
   "source": [
    "df.columns"
   ]
  },
  {
   "cell_type": "code",
   "execution_count": 5,
   "metadata": {},
   "outputs": [
    {
     "data": {
      "text/plain": [
       "0                 transportation\n",
       "1           hospitality / travel\n",
       "2                            NaN\n",
       "3                        student\n",
       "4    artistic / musical / writer\n",
       "Name: job, dtype: object"
      ]
     },
     "execution_count": 5,
     "metadata": {},
     "output_type": "execute_result"
    }
   ],
   "source": [
    "df.job.head()"
   ]
  },
  {
   "cell_type": "code",
   "execution_count": 6,
   "metadata": {},
   "outputs": [
    {
     "data": {
      "text/plain": [
       "m    35829\n",
       "f    24117\n",
       "Name: sex, dtype: int64"
      ]
     },
     "execution_count": 6,
     "metadata": {},
     "output_type": "execute_result"
    }
   ],
   "source": [
    "df.sex.value_counts()"
   ]
  },
  {
   "cell_type": "code",
   "execution_count": 7,
   "metadata": {},
   "outputs": [
    {
     "data": {
      "image/png": "[encoded data removed]",
      "text/plain": [
       "<Figure size 720x360 with 1 Axes>"
      ]
     },
     "metadata": {
      "needs_background": "light"
     },
     "output_type": "display_data"
    }
   ],
   "source": [
    "# Inspecting education level\n",
    "plt.figure(figsize=(10,5))\n",
    "chart = sns.countplot(data=df, x=\"education\", palette=\"Set1\")\n",
    "chart.set_xticklabels(chart.get_xticklabels(), rotation=45,horizontalalignment=\"right\", fontweight=\"light\", fontsize=\"medium\")\n",
    "plt.show()\n"
   ]
  },
  {
   "cell_type": "code",
   "execution_count": 8,
   "metadata": {},
   "outputs": [
    {
     "data": {
      "image/png": "[encoded data removed]",
      "text/plain": [
       "<Figure size 432x288 with 1 Axes>"
      ]
     },
     "metadata": {},
     "output_type": "display_data"
    }
   ],
   "source": [
    "# Inspecting percentage of Male and Female in app \n",
    "labels = 'Male', 'Female'\n",
    "fig1, ax1 = plt.subplots()\n",
    "ax1.pie(df.sex.value_counts(), autopct='%1.1f%%', labels=labels, startangle=90)\n",
    "ax1.axis('equal')\n",
    "plt.show()\n"
   ]
  },
  {
   "cell_type": "code",
   "execution_count": 9,
   "metadata": {},
   "outputs": [],
   "source": [
    "# Visualizing some of the data"
   ]
  },
  {
   "cell_type": "code",
   "execution_count": 10,
   "metadata": {},
   "outputs": [
    {
     "data": {
      "image/png": "[encoded data removed]",
      "text/plain": [
       "<Figure size 432x288 with 1 Axes>"
      ]
     },
     "metadata": {
      "needs_background": "light"
     },
     "output_type": "display_data"
    }
   ],
   "source": [
    "plt.hist(df.age, bins=20)\n",
    "plt.xlabel(\"Age\")\n",
    "plt.ylabel(\"Frequency\")\n",
    "plt.title('Frequency by range of age')\n",
    "plt.xlim(16, 80)\n",
    "plt.show()"
   ]
  },
  {
   "cell_type": "code",
   "execution_count": 11,
   "metadata": {},
   "outputs": [
    {
     "data": {
      "text/plain": [
       "likes dogs and likes cats          14814\n",
       "likes dogs                          7224\n",
       "likes dogs and has cats             4313\n",
       "has dogs                            4134\n",
       "has dogs and likes cats             2333\n",
       "likes dogs and dislikes cats        2029\n",
       "has dogs and has cats               1474\n",
       "has cats                            1406\n",
       "likes cats                          1063\n",
       "has dogs and dislikes cats           552\n",
       "dislikes dogs and likes cats         240\n",
       "dislikes dogs and dislikes cats      196\n",
       "dislikes cats                        122\n",
       "dislikes dogs and has cats            81\n",
       "dislikes dogs                         44\n",
       "Name: pets, dtype: int64"
      ]
     },
     "execution_count": 11,
     "metadata": {},
     "output_type": "execute_result"
    }
   ],
   "source": [
    "df.pets.value_counts()"
   ]
  },
  {
   "cell_type": "code",
   "execution_count": 12,
   "metadata": {},
   "outputs": [
    {
     "data": {
      "text/plain": [
       "single            55697\n",
       "seeing someone     2064\n",
       "available          1865\n",
       "married             310\n",
       "unknown              10\n",
       "Name: status, dtype: int64"
      ]
     },
     "execution_count": 12,
     "metadata": {},
     "output_type": "execute_result"
    }
   ],
   "source": [
    "df.status.value_counts()"
   ]
  },
  {
   "cell_type": "code",
   "execution_count": 13,
   "metadata": {},
   "outputs": [
    {
     "data": {
      "image/png": "[encoded data removed]",
      "text/plain": [
       "<Figure size 432x432 with 1 Axes>"
      ]
     },
     "metadata": {},
     "output_type": "display_data"
    }
   ],
   "source": [
    "labels = df.status.unique()\n",
    "fig1, ax1 = plt.subplots(figsize=(6,6))\n",
    "ax1.pie(df.status.value_counts(), autopct='%1.f%%',  explode =(0,0.3,0.3,1,0.3), textprops=dict(color=\"black\", fontweight='bold',size=11))\n",
    "ax1.axis('equal')\n",
    "plt.legend(labels, loc=\"center left\", title=\"Status\", bbox_to_anchor=(1,0,0.5,1))\n",
    "ax1.set_title(\"Relationship Status\")\n",
    "plt.show()"
   ]
  },
  {
   "cell_type": "markdown",
   "metadata": {},
   "source": [
    "#### Formulating a question "
   ]
  },
  {
   "cell_type": "code",
   "execution_count": 14,
   "metadata": {},
   "outputs": [],
   "source": [
    "# Is there a way to predict a user's Zodiac sign from the information in their profile?"
   ]
  },
  {
   "cell_type": "code",
   "execution_count": 15,
   "metadata": {},
   "outputs": [],
   "source": [
    "# More specifically based on the information in drinking, smoking, drugs and essays as features "
   ]
  },
  {
   "cell_type": "code",
   "execution_count": 16,
   "metadata": {},
   "outputs": [
    {
     "data": {
      "text/plain": [
       "gemini and it&rsquo;s fun to think about         1782\n",
       "scorpio and it&rsquo;s fun to think about        1772\n",
       "leo and it&rsquo;s fun to think about            1692\n",
       "libra and it&rsquo;s fun to think about          1649\n",
       "taurus and it&rsquo;s fun to think about         1640\n",
       "cancer and it&rsquo;s fun to think about         1597\n",
       "pisces and it&rsquo;s fun to think about         1592\n",
       "sagittarius and it&rsquo;s fun to think about    1583\n",
       "virgo and it&rsquo;s fun to think about          1574\n",
       "aries and it&rsquo;s fun to think about          1573\n",
       "aquarius and it&rsquo;s fun to think about       1503\n",
       "virgo but it doesn&rsquo;t matter                1497\n",
       "leo but it doesn&rsquo;t matter                  1457\n",
       "cancer but it doesn&rsquo;t matter               1454\n",
       "gemini but it doesn&rsquo;t matter               1453\n",
       "taurus but it doesn&rsquo;t matter               1450\n",
       "aquarius but it doesn&rsquo;t matter             1408\n",
       "libra but it doesn&rsquo;t matter                1408\n",
       "capricorn and it&rsquo;s fun to think about      1376\n",
       "sagittarius but it doesn&rsquo;t matter          1375\n",
       "aries but it doesn&rsquo;t matter                1373\n",
       "capricorn but it doesn&rsquo;t matter            1319\n",
       "pisces but it doesn&rsquo;t matter               1300\n",
       "scorpio but it doesn&rsquo;t matter              1264\n",
       "leo                                              1159\n",
       "libra                                            1098\n",
       "cancer                                           1092\n",
       "virgo                                            1029\n",
       "scorpio                                          1020\n",
       "gemini                                           1013\n",
       "taurus                                           1001\n",
       "aries                                             996\n",
       "pisces                                            992\n",
       "aquarius                                          954\n",
       "sagittarius                                       937\n",
       "capricorn                                         833\n",
       "scorpio and it matters a lot                       78\n",
       "leo and it matters a lot                           66\n",
       "cancer and it matters a lot                        63\n",
       "aquarius and it matters a lot                      63\n",
       "pisces and it matters a lot                        62\n",
       "gemini and it matters a lot                        62\n",
       "libra and it matters a lot                         52\n",
       "taurus and it matters a lot                        49\n",
       "aries and it matters a lot                         47\n",
       "sagittarius and it matters a lot                   47\n",
       "capricorn and it matters a lot                     45\n",
       "virgo and it matters a lot                         41\n",
       "Name: sign, dtype: int64"
      ]
     },
     "execution_count": 16,
     "metadata": {},
     "output_type": "execute_result"
    }
   ],
   "source": [
    "df.sign.value_counts()"
   ]
  },
  {
   "cell_type": "code",
   "execution_count": 17,
   "metadata": {},
   "outputs": [],
   "source": [
    "# Augmenting data: creating new columns turning the ones we need into numerical data"
   ]
  },
  {
   "cell_type": "code",
   "execution_count": 18,
   "metadata": {},
   "outputs": [],
   "source": [
    "# Creating a mapping column for the 'drinks' columns"
   ]
  },
  {
   "cell_type": "code",
   "execution_count": 19,
   "metadata": {},
   "outputs": [
    {
     "name": "stdout",
     "output_type": "stream",
     "text": [
      "   drinks_code    drinks\n",
      "0          2.0  socially\n",
      "1          3.0     often\n",
      "2          2.0  socially\n",
      "3          2.0  socially\n",
      "4          2.0  socially\n"
     ]
    }
   ],
   "source": [
    "drink_mapping = {\"not at all\": 0, \"rarely\": 1, \"socially\": 2, \"often\": 3, \"very often\": 4, \"desperately\": 5}\n",
    "df[\"drinks_code\"] = df.drinks.map(drink_mapping)\n",
    "print(df[['drinks_code', 'drinks']].head())"
   ]
  },
  {
   "cell_type": "code",
   "execution_count": 20,
   "metadata": {},
   "outputs": [],
   "source": [
    "# Creating a mapping column for the 'smokes' columns"
   ]
  },
  {
   "cell_type": "code",
   "execution_count": 21,
   "metadata": {
    "scrolled": true
   },
   "outputs": [
    {
     "name": "stdout",
     "output_type": "stream",
     "text": [
      "['sometimes' 'no' nan 'when drinking' 'yes' 'trying to quit']\n",
      "               smokes  smokes_code\n",
      "0           sometimes          1.0\n",
      "1                  no          0.0\n",
      "2                  no          0.0\n",
      "3                  no          0.0\n",
      "4                  no          0.0\n",
      "...               ...          ...\n",
      "59941              no          0.0\n",
      "59942              no          0.0\n",
      "59943              no          0.0\n",
      "59944  trying to quit          3.0\n",
      "59945       sometimes          1.0\n",
      "\n",
      "[59946 rows x 2 columns]\n"
     ]
    }
   ],
   "source": [
    "print(df.smokes.unique())\n",
    "smokes_mapping = {\"no\":0, \"sometimes\": 1, \"when drinking\": 2, \"trying to quit\": 3, \"yes\": 4}\n",
    "df[\"smokes_code\"] = df.smokes.map(smokes_mapping)\n",
    "print(df[[\"smokes\", \"smokes_code\"]])"
   ]
  },
  {
   "cell_type": "code",
   "execution_count": 22,
   "metadata": {},
   "outputs": [],
   "source": [
    "# Creating a mapping column for the 'drugs' columns"
   ]
  },
  {
   "cell_type": "code",
   "execution_count": 23,
   "metadata": {},
   "outputs": [
    {
     "name": "stdout",
     "output_type": "stream",
     "text": [
      "['never' 'sometimes' nan 'often']\n",
      "       drugs_code      drugs\n",
      "0             0.0      never\n",
      "1             1.0  sometimes\n",
      "2             NaN        NaN\n",
      "3             NaN        NaN\n",
      "4             0.0      never\n",
      "...           ...        ...\n",
      "59941         0.0      never\n",
      "59942         1.0  sometimes\n",
      "59943         0.0      never\n",
      "59944         2.0      often\n",
      "59945         NaN        NaN\n",
      "\n",
      "[59946 rows x 2 columns]\n"
     ]
    }
   ],
   "source": [
    "print(df.drugs.unique())\n",
    "drugs_mapping = {\"never\": 0, \"sometimes\": 1, \"often\": 2}\n",
    "df[\"drugs_code\"] = df.drugs.map(drugs_mapping)\n",
    "print(df[[\"drugs_code\", \"drugs\"]])"
   ]
  },
  {
   "cell_type": "code",
   "execution_count": 24,
   "metadata": {},
   "outputs": [
    {
     "name": "stdout",
     "output_type": "stream",
     "text": [
      "         \n"
     ]
    }
   ],
   "source": [
    "# Combining all essays into one list\n",
    "essay_cols = [\"essay0\", \"essay1\", \"essay2\", \"essay3\", \"essay4\", \"essay5\", \"essay6\", \"essay7\", \"essay8\", \"essay9\"]\n",
    "\n",
    "# Remove NaN from essay_cols\n",
    "all_essays = df[essay_cols].replace(np.nan, '', regex=True)\n",
    "\n",
    "# Combining the essays\n",
    "all_essays = all_essays[essay_cols].apply(lambda x: ' '.join(x), axis=1)\n",
    "\n",
    "# Combining all essays into a column of the DataFrame\n",
    "df['all_essays'] = all_essays \n",
    "\n",
    "# Replace empty essay with nan\n",
    "print(df['all_essays'][13])\n",
    "# df['all_essays'].str.replace(\" \", \"-\", regex=True)"
   ]
  },
  {
   "cell_type": "code",
   "execution_count": 25,
   "metadata": {},
   "outputs": [],
   "source": [
    "# Creating column for essay length\n",
    "df[\"essay_len\"] = df.apply(lambda df: len(df['all_essays']), axis=1)"
   ]
  },
  {
   "cell_type": "code",
   "execution_count": 26,
   "metadata": {},
   "outputs": [],
   "source": [
    "# Creating column for number of times \"I\" is used in essays\n",
    "df['number_i'] = df.apply(lambda df: df['all_essays'].count(\" i\"), axis=1)\n",
    "# df['number_i']"
   ]
  },
  {
   "cell_type": "code",
   "execution_count": 27,
   "metadata": {},
   "outputs": [],
   "source": [
    "# Creating column for number of times \"me\" is used in essays\n",
    "df['number_me'] = df.apply(lambda df: df['all_essays'].count(' me'), axis=1)\n",
    "# df['number_me']"
   ]
  },
  {
   "cell_type": "code",
   "execution_count": 28,
   "metadata": {},
   "outputs": [],
   "source": [
    "# Creating column for number of times both \"me\" and \"i\" are used in essays\n",
    "df['number_i_and_me'] = df['number_me'] + df['number_i']\n",
    "# df['number_i_and_me']"
   ]
  },
  {
   "cell_type": "code",
   "execution_count": 29,
   "metadata": {},
   "outputs": [],
   "source": [
    "# Creating column with average length of words in essays \n",
    "# Splitting column of all essays into words\n",
    "df['words_in_essays'] = df.apply(lambda df: df['all_essays'].split(), axis=1) \n",
    "\n",
    "# Calculating avg word length\n",
    "avg_length_list = []\n",
    "\n",
    "for i in range(len(df['words_in_essays'])):\n",
    "    if len(df['words_in_essays'][i]) == 0:\n",
    "        avg_length_list.append(0)\n",
    "    else:\n",
    "        avg_length_list.append(sum(map(len, df['words_in_essays'][i])) / len(df['words_in_essays'][i]))\n",
    "df['avg_word_length'] = avg_length_list\n",
    "# df['avg_word_length']"
   ]
  },
  {
   "cell_type": "code",
   "execution_count": 30,
   "metadata": {},
   "outputs": [],
   "source": [
    "# Making predictions using Classification Techniques"
   ]
  },
  {
   "cell_type": "markdown",
   "metadata": {},
   "source": [
    "### 1. Can we predict sex with education level and income? \n",
    "Using K-Nearest neighbors"
   ]
  },
  {
   "cell_type": "code",
   "execution_count": 31,
   "metadata": {
    "scrolled": true
   },
   "outputs": [],
   "source": [
    "# Inspecting the columns' data we will use as features \n",
    "# print(df.education.unique())\n",
    "# print(df.income.unique())\n"
   ]
  },
  {
   "cell_type": "markdown",
   "metadata": {},
   "source": [
    "- Data Cleaning to be able to classify it "
   ]
  },
  {
   "cell_type": "code",
   "execution_count": 32,
   "metadata": {
    "scrolled": false
   },
   "outputs": [
    {
     "name": "stdout",
     "output_type": "stream",
     "text": [
      "       sex_code sex\n",
      "0             0   m\n",
      "1             0   m\n",
      "2             0   m\n",
      "3             0   m\n",
      "4             0   m\n",
      "...         ...  ..\n",
      "59941         1   f\n",
      "59942         0   m\n",
      "59943         0   m\n",
      "59944         0   m\n",
      "59945         0   m\n",
      "\n",
      "[59946 rows x 2 columns]\n"
     ]
    }
   ],
   "source": [
    "# Defining sex_code column: numerical column based on gender: 1 for female, 0 for male\n",
    "df['sex_code'] = df['sex'].apply(lambda x: 1 if x == 'f' else 0)\n",
    "print(df[['sex_code', 'sex']])"
   ]
  },
  {
   "cell_type": "code",
   "execution_count": 33,
   "metadata": {},
   "outputs": [
    {
     "name": "stdout",
     "output_type": "stream",
     "text": [
      "0    35829\n",
      "1    24117\n",
      "Name: sex_code, dtype: int64\n"
     ]
    }
   ],
   "source": [
    "print(df['sex_code'].value_counts())"
   ]
  },
  {
   "cell_type": "markdown",
   "metadata": {},
   "source": [
    "Need to transform data into numerical columns\n",
    "\n",
    "Due to number of of categories, will classify education levels based on the highest level validated. If a category is \"working on\" or \"dropped out of\", the lower level will be taken into account. \n",
    "Law school and med school droppers will be classified as college/university\n",
    "\n"
   ]
  },
  {
   "cell_type": "code",
   "execution_count": 34,
   "metadata": {},
   "outputs": [],
   "source": [
    "# Attributing number from 0 to 7 to education\n",
    "\n",
    "education_numeric = []\n",
    "for i in df['education']:\n",
    "    if i == \"working on high school\" or i ==\"working on space camp\" or i == \"graduated from space camp\" or i == \"dropped out of space camp\" or i == \"space camp\" or i == \"dropped out of high school\": \n",
    "        education_numeric.append(1)\n",
    "#         print(1, \"secondary_school\", i)\n",
    "    elif i == \"working on colege/university\" or i == \"working on two-year college\" or i == \"dropped out of college/university\" or i == \"high school\" or i == \"graduated from high school\":\n",
    "        education_numeric.append(2)\n",
    "#         print(2, \"high school\", i)\n",
    "    elif i == \"working on masters program\" or i == \"college/university\" or i == \"graduated from two-year college\" or i == \"dropped out of masters program\" or i == \"dropped out of law school\" or i == \"graduated from college/university\" or i == \"two-year college\" or i == \"working on med school\" or i == \"dropped out of med school\" or i == \"working on law school\":\n",
    "        education_numeric.append(3)\n",
    "#         print(3, \"college/university\", i)\n",
    "    elif i == \"graduated from masters program\" or i == \"working on ph.d program\" or i == \"masters program\":\n",
    "        education_numeric.append(4)\n",
    "#         print(4, \"masters\", i)\n",
    "    elif i == \"graduated from ph.d program\" or i == \"ph.d program\":\n",
    "        education_numeric.append(5)\n",
    "#         print(5, \"phd\", i)\n",
    "    elif i == \"graduated from law school\" or i == \"law school\":\n",
    "        education_numeric.append(6)\n",
    "#         print(6, \"law_school\", i)\n",
    "    elif i == \"graduated from med school\" or i == \"med school\":\n",
    "        education_numeric.append(7)\n",
    "#         print(7, \"med_school\", i)\n",
    "    else: \n",
    "        education_numeric.append(0)\n",
    "#         print(0, \"no_answer\", i)"
   ]
  },
  {
   "cell_type": "code",
   "execution_count": 35,
   "metadata": {},
   "outputs": [],
   "source": [
    "# Attributing results to column in df\n",
    "df['education_numeric'] = education_numeric\n",
    "# Replacing the values \"-1\" with 0 \n",
    "income = df['income']\n",
    "df['income'] = np.where(income == -1, 0, income)"
   ]
  },
  {
   "cell_type": "code",
   "execution_count": 36,
   "metadata": {},
   "outputs": [
    {
     "data": {
      "text/plain": [
       "0             0\n",
       "1         80000\n",
       "2             0\n",
       "3         20000\n",
       "4             0\n",
       "          ...  \n",
       "59941         0\n",
       "59942         0\n",
       "59943    100000\n",
       "59944         0\n",
       "59945         0\n",
       "Name: income, Length: 59946, dtype: int64"
      ]
     },
     "execution_count": 36,
     "metadata": {},
     "output_type": "execute_result"
    }
   ],
   "source": [
    "# Feature_1: education level:\n",
    "df['education_numeric']\n",
    "# Feature_2: income \n",
    "df['income']"
   ]
  },
  {
   "cell_type": "markdown",
   "metadata": {},
   "source": [
    "- Normalizing the data "
   ]
  },
  {
   "cell_type": "code",
   "execution_count": 37,
   "metadata": {},
   "outputs": [],
   "source": [
    "# Gathering data and labels into variables \n",
    "labels = df['sex_code'].tolist()\n",
    "data = df[[\"education_numeric\", \"income\"]].values.tolist()\n"
   ]
  },
  {
   "cell_type": "code",
   "execution_count": 38,
   "metadata": {},
   "outputs": [],
   "source": [
    "# Scaling data columns so all features vary within the same range \n",
    "from sklearn.preprocessing import scale\n",
    "scaled_data = scale(data, axis=0)\n",
    "# print(scaled_data)"
   ]
  },
  {
   "cell_type": "markdown",
   "metadata": {},
   "source": [
    "- Creating the Traning and Testing sets"
   ]
  },
  {
   "cell_type": "code",
   "execution_count": 39,
   "metadata": {},
   "outputs": [],
   "source": [
    "# Creating the Training Set and Test Set \n",
    "from sklearn.model_selection import train_test_split\n",
    "train_test_split(data, labels, test_size=0.2, random_state=100)\n",
    "\n",
    "train_data, test_data, train_labels, test_labels = train_test_split(scaled_data, labels, test_size=0.2, random_state=100)"
   ]
  },
  {
   "cell_type": "markdown",
   "metadata": {},
   "source": [
    "- Importing KNeighborsClassifier from sklearn"
   ]
  },
  {
   "cell_type": "code",
   "execution_count": 40,
   "metadata": {},
   "outputs": [],
   "source": [
    "# Importing KNeighborsClassifier from sklearn\n",
    "from sklearn.neighbors import KNeighborsClassifier"
   ]
  },
  {
   "cell_type": "code",
   "execution_count": 41,
   "metadata": {},
   "outputs": [
    {
     "name": "stdout",
     "output_type": "stream",
     "text": [
      "0.56371976647206\n"
     ]
    }
   ],
   "source": [
    "# Classifying the data \n",
    "\n",
    "# Creating KNeighborsClassififer object\n",
    "classifier = KNeighborsClassifier(n_neighbors=5)\n",
    "\n",
    "# Training classifier \n",
    "classifier.fit(train_data, train_labels)\n",
    "\n",
    "# Testing the model\n",
    "kneighbor_model_accuracy = classifier.score(test_data, test_labels)\n",
    "print(kneighbor_model_accuracy)\n"
   ]
  },
  {
   "cell_type": "code",
   "execution_count": 42,
   "metadata": {},
   "outputs": [
    {
     "name": "stdout",
     "output_type": "stream",
     "text": [
      "The accuracy of the model is low: 56.37%. More features may be needed to predict sex.\n"
     ]
    }
   ],
   "source": [
    "# Commenting about accuracy \n",
    "if kneighbor_model_accuracy < .7:\n",
    "    print(\"The accuracy of the model is low: \"+ str('{:.2%}'.format(kneighbor_model_accuracy)) + \". More features may be needed to predict sex.\")\n",
    "else:\n",
    "    print(\"The accuracy of the model is okay: \"+ str('{:.2%}'.format(kneighbor_model_accuracy)) + \". \")\n",
    "          "
   ]
  },
  {
   "cell_type": "code",
   "execution_count": 43,
   "metadata": {},
   "outputs": [],
   "source": [
    "# 1. Can we predict sex with education level and income? "
   ]
  },
  {
   "cell_type": "markdown",
   "metadata": {},
   "source": [
    "Now that the model is trained, we will be using it to predict new unknown points. <br>\n",
    "Defining the unknown points by starting with the features' extremes, averages and a random number from the features. More precisely: \n",
    "- minimum level of education\n",
    "- maximum level of education\n",
    "- median level of education\n",
    "- random level of education inside the set's minimum and maximum \n",
    "\n",
    "and\n",
    "\n",
    "- minimum level of income\n",
    "- maximum level of income\n",
    "- average level of income\n",
    "- random level of income inside the set's minimum and maximum \n"
   ]
  },
  {
   "cell_type": "code",
   "execution_count": 44,
   "metadata": {
    "scrolled": true
   },
   "outputs": [],
   "source": [
    "# Defining unknown points from education\n",
    "min_education = df['education_numeric'].min()\n",
    "max_education = df['education_numeric'].max()\n",
    "med_education = df['education_numeric'].median()\n",
    "random_education = np.random.randint(min_education, max_education)\n",
    "manual_education = 7\n",
    "\n",
    "# Defining unknown points from income\n",
    "min_income = df['income'].min()\n",
    "max_income = df['income'].max()\n",
    "avg_income = df['income'].mean()\n",
    "random_income = np.random.randint(min_income, max_income)\n",
    "manual_income = 1000\n",
    "\n",
    "# Combining unknown points into list\n",
    "unknown_points = [\\\n",
    "                  [ min_education, min_income], \\\n",
    "                  [ max_education, max_income], \\\n",
    "                  [ med_education, avg_income], \\\n",
    "                  [ random_education, random_income],\\\n",
    "                  [manual_education, manual_income]\\\n",
    "                 ]\n",
    "# Scaling unknown points\n",
    "scaled_unknown = scale(unknown_points, axis=0)"
   ]
  },
  {
   "cell_type": "code",
   "execution_count": 45,
   "metadata": {},
   "outputs": [
    {
     "name": "stdout",
     "output_type": "stream",
     "text": [
      "[1 0 0 0 1]\n"
     ]
    }
   ],
   "source": [
    "# Predicting which sex should be attributed based on the level of education and income defined. \n",
    "guesses = classifier.predict(scaled_unknown)\n",
    "print(guesses)\n"
   ]
  },
  {
   "cell_type": "code",
   "execution_count": 46,
   "metadata": {},
   "outputs": [
    {
     "name": "stdout",
     "output_type": "stream",
     "text": [
      "The guess was education level 0 and income of $0. This is more likely to be a woman's profile. \n",
      "\n",
      "The guess was education level 7 and income of $1000000. This is more likely to be a man's profile. \n",
      "\n",
      "The guess was education level 3.0 and income of $20034. This is more likely to be a man's profile. \n",
      "\n",
      "The guess was education level 5 and income of $361252. This is more likely to be a man's profile. \n",
      "\n",
      "The guess was education level 7 and income of $1000. This is more likely to be a woman's profile. \n",
      "\n"
     ]
    }
   ],
   "source": [
    "# Providing explanation on what the prediction means\n",
    "for g in range(len(guesses)):\n",
    "    if guesses[g] == 1:\n",
    "        print(\"The guess was education level \"+ str(unknown_points[g][0]) + \" and income of $\" + str(int(unknown_points[g][1])) +\". This is more likely to be a woman's profile. \\n\")\n",
    "    else:\n",
    "        print(\"The guess was education level \"+ str(unknown_points[g][0]) + \" and income of $\" + str(int(unknown_points[g][1])) +\". This is more likely to be a man's profile. \\n\")\n",
    "        "
   ]
  },
  {
   "cell_type": "code",
   "execution_count": 47,
   "metadata": {},
   "outputs": [],
   "source": [
    "# Exploring if there would be better options for k value\n",
    "scores_1_100 = []\n",
    "for k in range(1, 100):\n",
    "    classifier = KNeighborsClassifier(n_neighbors = k)\n",
    "    classifier.fit(train_data, train_labels)\n",
    "    _1_100 = classifier.score(test_data, test_labels)\n",
    "    scores_1_100.append(_1_100)"
   ]
  },
  {
   "cell_type": "code",
   "execution_count": 48,
   "metadata": {
    "scrolled": false
   },
   "outputs": [
    {
     "data": {
      "image/png": "[encoded data removed]",
      "text/plain": [
       "<Figure size 432x288 with 1 Axes>"
      ]
     },
     "metadata": {
      "needs_background": "light"
     },
     "output_type": "display_data"
    }
   ],
   "source": [
    "# Plotting results\n",
    "plt.plot(range(1,100), scores_1_100)\n",
    "plt.title('Classifier Accuracy based on k value')\n",
    "plt.show()"
   ]
  },
  {
   "cell_type": "markdown",
   "metadata": {},
   "source": [
    "Or Support Vector Machines"
   ]
  },
  {
   "cell_type": "markdown",
   "metadata": {},
   "source": [
    "#### 2. Can we predict education level with essay text word counts? "
   ]
  },
  {
   "cell_type": "code",
   "execution_count": 49,
   "metadata": {},
   "outputs": [
    {
     "name": "stdout",
     "output_type": "stream",
     "text": [
      "       education_numeric_binary  education_numeric\n",
      "0                             0                  0\n",
      "1                             0                  1\n",
      "2                             1                  4\n",
      "3                             0                  0\n",
      "4                             1                  3\n",
      "...                         ...                ...\n",
      "59941                         1                  3\n",
      "59942                         0                  0\n",
      "59943                         1                  4\n",
      "59944                         0                  0\n",
      "59945                         1                  4\n",
      "\n",
      "[59946 rows x 2 columns]\n"
     ]
    }
   ],
   "source": [
    "# Will need to simplify even more education into binary data. \n",
    "# if education_numeric is below or equal 3, then education_numeric_binary = 0, else 1 \n",
    "# In 0, including  Secondary school, High school, College/University. \n",
    "# In 1: Masters, PhD, Law School and Med School \n",
    "# Summary:\n",
    "# 0 education level = \"non-masters education\"\n",
    "# 1 education level = \"masters and more education\"\n",
    "df['education_numeric_binary'] = np.where(np.array(education_numeric) <= 2, 0, 1)\n",
    "print(df[['education_numeric_binary', 'education_numeric']]) "
   ]
  },
  {
   "cell_type": "code",
   "execution_count": 50,
   "metadata": {},
   "outputs": [],
   "source": [
    "# Features that will be used for this prediction: \n",
    "# Labels : education_numeric_binary \n",
    "# Feature 1: avg_word_len\n",
    "# Feature 2: essay_len\n",
    "# df['essay_len']"
   ]
  },
  {
   "cell_type": "code",
   "execution_count": 51,
   "metadata": {},
   "outputs": [],
   "source": [
    "from sklearn.svm import SVC"
   ]
  },
  {
   "cell_type": "code",
   "execution_count": 52,
   "metadata": {},
   "outputs": [],
   "source": [
    "# Normalizing data \n",
    "# Making sure our numerical data all has the same weight"
   ]
  },
  {
   "cell_type": "code",
   "execution_count": 53,
   "metadata": {},
   "outputs": [],
   "source": [
    "feature_data = df[['smokes_code', 'drinks_code', 'drugs_code', 'essay_len', 'avg_word_length', 'education_numeric_binary']]\n",
    "\n",
    "from sklearn import preprocessing\n",
    "from sklearn.preprocessing import MinMaxScaler\n",
    "\n",
    "x = feature_data.values\n",
    "min_max_scaler = preprocessing.MinMaxScaler()\n",
    "x_scaled = min_max_scaler.fit_transform(x)\n",
    "\n",
    "feature_data = pd.DataFrame(x_scaled, columns=feature_data.columns)"
   ]
  },
  {
   "cell_type": "code",
   "execution_count": 54,
   "metadata": {},
   "outputs": [],
   "source": [
    "training_points = feature_data[['avg_word_length', 'essay_len']].values.tolist()\n",
    "labels = feature_data['education_numeric_binary'].values.tolist()"
   ]
  },
  {
   "cell_type": "code",
   "execution_count": 55,
   "metadata": {},
   "outputs": [],
   "source": [
    "training_data, validation_data, training_labels, validation_labels = train_test_split(training_points, labels, train_size = 0.8, test_size=0.2, random_state = 20)"
   ]
  },
  {
   "cell_type": "code",
   "execution_count": 56,
   "metadata": {},
   "outputs": [
    {
     "name": "stdout",
     "output_type": "stream",
     "text": [
      "0.6969974979149292\n"
     ]
    }
   ],
   "source": [
    "svc_classifier = SVC(kernel = 'rbf', gamma=3, C=1000)\n",
    "svc_classifier.fit(training_data, training_labels)\n",
    "svc_accuracy = svc_classifier.score(validation_data, validation_labels)\n",
    "print(svc_accuracy)"
   ]
  },
  {
   "cell_type": "code",
   "execution_count": 57,
   "metadata": {},
   "outputs": [
    {
     "name": "stdout",
     "output_type": "stream",
     "text": [
      "The accuracy of the model is low: 69.70%. More features may be needed to predict education level.\n"
     ]
    }
   ],
   "source": [
    "# Commenting about accuracy \n",
    "if svc_accuracy < .7:\n",
    "    print(\"The accuracy of the model is low: \"+ str('{:.2%}'.format(svc_accuracy)) + \". More features may be needed to predict education level.\")\n",
    "else:\n",
    "    print(\"The accuracy of the model is okay: \"+ str('{:.2%}'.format(svc_accuracy)) + \". \")\n",
    "          "
   ]
  },
  {
   "cell_type": "code",
   "execution_count": 58,
   "metadata": {},
   "outputs": [],
   "source": [
    "# Defining unknown points from education\n",
    "min_avg_word_len = feature_data['avg_word_length'].min()\n",
    "max_avg_word_len = feature_data['avg_word_length'].max()\n",
    "med_avg_word_len = feature_data['avg_word_length'].median()\n",
    "random_avg_word_len = np.random.uniform(min_avg_word_len, max_avg_word_len)\n",
    "# manual_avg_word_len = 7\n",
    "\n",
    "# Defining unknown points from income\n",
    "min_essay_len = feature_data['essay_len'].min()\n",
    "max_essay_len = feature_data['essay_len'].max()\n",
    "avg_essay_len = feature_data['essay_len'].mean()\n",
    "random_essay_len = np.random.uniform(min_essay_len, max_essay_len)\n",
    "# manual_essay_len = 1000\n",
    "\n",
    "# Combining unknown points into list\n",
    "svc_unknown_points = [\\\n",
    "                  [ min_avg_word_len, min_essay_len], \\\n",
    "                  [ max_avg_word_len, max_essay_len], \\\n",
    "                  [ med_avg_word_len, avg_essay_len], \\\n",
    "                  [ random_avg_word_len, random_essay_len]\\\n",
    "#                   [manual_education, manual_income]\\\n",
    "                 ]\n",
    "# Scaling unknown points\n",
    "# scaled_unknown = scale(unknown_points, axis=0)"
   ]
  },
  {
   "cell_type": "code",
   "execution_count": 59,
   "metadata": {},
   "outputs": [],
   "source": [
    "# print(svc_unknown_points)"
   ]
  },
  {
   "cell_type": "code",
   "execution_count": 60,
   "metadata": {},
   "outputs": [
    {
     "name": "stdout",
     "output_type": "stream",
     "text": [
      "[1. 0. 1. 0.]\n"
     ]
    }
   ],
   "source": [
    "svc_guesses = svc_classifier.predict(svc_unknown_points)\n",
    "print(svc_guesses)"
   ]
  },
  {
   "cell_type": "code",
   "execution_count": 61,
   "metadata": {},
   "outputs": [],
   "source": [
    "# Denormalizing to be able to print the unknown_points\n",
    "# svc_unknown_unscaled = scaler.inverse_transform(svc_unknown_points)"
   ]
  },
  {
   "cell_type": "code",
   "execution_count": 62,
   "metadata": {},
   "outputs": [
    {
     "name": "stdout",
     "output_type": "stream",
     "text": [
      "The guess was average word length 0.0 and essay length of 0 words. This is more likely to be an individual who graduated from a masters' degree or higher, med or law school.\n",
      "\n",
      "The guess was average word length 1.0 and essay length of 1 words. This is more likely to be an individual who graduated from either Secondary, High school or College/University.\n",
      "\n",
      "The guess was average word length 0.0036739868540402536 and essay length of 0 words. This is more likely to be an individual who graduated from a masters' degree or higher, med or law school.\n",
      "\n",
      "The guess was average word length 0.8707477108105125 and essay length of 0 words. This is more likely to be an individual who graduated from either Secondary, High school or College/University.\n",
      "\n"
     ]
    }
   ],
   "source": [
    "# Providing explanation on what the prediction means\n",
    "for v in range(len(svc_guesses)):\n",
    "    if svc_guesses[v] == 1:\n",
    "        print(\"The guess was average word length \"+ str(svc_unknown_points[v][0]) + \" and essay length of \" + str(int(svc_unknown_points[v][1])) +\" words. This is more likely to be an individual who graduated from a masters' degree or higher, med or law school.\\n\") \n",
    "    else:\n",
    "        print(\"The guess was average word length \"+ str(svc_unknown_points[v][0]) + \" and essay length of \" + str(int(svc_unknown_points[v][1])) +\" words. This is more likely to be an individual who graduated from either Secondary, High school or College/University.\\n\")\n",
    "        "
   ]
  },
  {
   "cell_type": "code",
   "execution_count": 63,
   "metadata": {},
   "outputs": [],
   "source": [
    "# How to show what was chosen although normalized?"
   ]
  },
  {
   "cell_type": "markdown",
   "metadata": {},
   "source": [
    "#### 3. Can we predict income with length of essays and average word length? "
   ]
  },
  {
   "cell_type": "markdown",
   "metadata": {},
   "source": [
    "- Importing LinearRegression from sklearn library\n",
    "<br>Using Multiple Linear Regression for this"
   ]
  },
  {
   "cell_type": "code",
   "execution_count": 64,
   "metadata": {},
   "outputs": [],
   "source": [
    "# Importing and create the model\n",
    "from sklearn.linear_model import LinearRegression \n",
    "mlr = LinearRegression()"
   ]
  },
  {
   "cell_type": "code",
   "execution_count": 65,
   "metadata": {},
   "outputs": [],
   "source": [
    "# Assigning the data columns to x and y \n",
    "x = df[['avg_word_length', 'essay_len']]\n",
    "y = df[['income']]"
   ]
  },
  {
   "cell_type": "code",
   "execution_count": 66,
   "metadata": {},
   "outputs": [],
   "source": [
    "# Creating the training set and test set\n",
    "x_train,x_test, y_train, y_test = train_test_split(x, y, train_size=0.8, random_state=10)"
   ]
  },
  {
   "cell_type": "code",
   "execution_count": 67,
   "metadata": {},
   "outputs": [
    {
     "data": {
      "text/plain": [
       "LinearRegression(copy_X=True, fit_intercept=True, n_jobs=None, normalize=False)"
      ]
     },
     "execution_count": 67,
     "metadata": {},
     "output_type": "execute_result"
    }
   ],
   "source": [
    "# Fitting the model\n",
    "mlr.fit(x_train, y_train)"
   ]
  },
  {
   "cell_type": "code",
   "execution_count": 68,
   "metadata": {},
   "outputs": [],
   "source": [
    "y_predict = mlr.predict(x_test)"
   ]
  },
  {
   "cell_type": "code",
   "execution_count": 69,
   "metadata": {},
   "outputs": [],
   "source": [
    "# Defining the unknown points from essay length and average word length\n",
    "points_min = [[min_essay_len, min_avg_word_len]]\n",
    "points_max = [[max_essay_len, max_avg_word_len]]\n",
    "points_avg = [[avg_essay_len, med_avg_word_len]]\n",
    "points_random = [[random_essay_len, random_avg_word_len]]"
   ]
  },
  {
   "cell_type": "code",
   "execution_count": 70,
   "metadata": {},
   "outputs": [],
   "source": [
    "# Using our Multiple Linear Regression model to predict income\n",
    "predict_min = mlr.predict(points_min)\n",
    "predict_max = mlr.predict(points_max)\n",
    "predict_avg = mlr.predict(points_avg)\n",
    "predict_random = mlr.predict(points_random)"
   ]
  },
  {
   "cell_type": "code",
   "execution_count": 71,
   "metadata": {},
   "outputs": [
    {
     "name": "stdout",
     "output_type": "stream",
     "text": [
      "[[7951.57929235]]\n",
      "[[10492.69826925]]\n",
      "[[8009.65112937]]\n",
      "[[8679.89634435]]\n"
     ]
    }
   ],
   "source": [
    "# Printing results \n",
    "print(predict_min)\n",
    "print(predict_max)\n",
    "print(predict_avg)\n",
    "print(predict_random)"
   ]
  },
  {
   "cell_type": "code",
   "execution_count": 72,
   "metadata": {},
   "outputs": [],
   "source": [
    "# Providing explanation on what the prediction means\n",
    "def predictions_results(unknown_points, predict):\n",
    "    for point in unknown_points:\n",
    "        print(\"Profiles where the essay is on average \" + '{:.3}'.format(str(point[0])) + \" words, and have an average word length of \" + '{:.3}'.format(str(point[1])) + \" characters have an average income of $\" + str('{:,.6}'.format(predict[0][0]) + '.\\n'))"
   ]
  },
  {
   "cell_type": "code",
   "execution_count": 73,
   "metadata": {},
   "outputs": [
    {
     "name": "stdout",
     "output_type": "stream",
     "text": [
      "Profiles where the essay is on average 0.0 words, and have an average word length of 0.0 characters have an average income of $7,951.58.\n",
      "\n",
      "Profiles where the essay is on average 1.0 words, and have an average word length of 1.0 characters have an average income of $10,492.7.\n",
      "\n",
      "Profiles where the essay is on average 0.0 words, and have an average word length of 0.0 characters have an average income of $8,009.65.\n",
      "\n",
      "Profiles where the essay is on average 0.2 words, and have an average word length of 0.8 characters have an average income of $8,679.9.\n",
      "\n"
     ]
    }
   ],
   "source": [
    "predictions_results(points_min, predict_min)\n",
    "predictions_results(points_max, predict_max)\n",
    "predictions_results(points_avg, predict_avg)\n",
    "predictions_results(points_random, predict_random)"
   ]
  },
  {
   "cell_type": "code",
   "execution_count": null,
   "metadata": {},
   "outputs": [],
   "source": []
  },
  {
   "cell_type": "markdown",
   "metadata": {},
   "source": [
    "#### 4. Can we predict age with frequency of I or me in essays?"
   ]
  },
  {
   "cell_type": "markdown",
   "metadata": {},
   "source": [
    "- Using K-nearest neighbor Regressor"
   ]
  },
  {
   "cell_type": "code",
   "execution_count": 74,
   "metadata": {},
   "outputs": [],
   "source": [
    "# Importing and creating the model\n",
    "from sklearn.neighbors import KNeighborsRegressor\n",
    "regressor = KNeighborsRegressor(n_neighbors = 3, weights=\"distance\")"
   ]
  },
  {
   "cell_type": "code",
   "execution_count": 75,
   "metadata": {},
   "outputs": [],
   "source": [
    "# Defining training points and labels\n",
    "training_points = df[['number_i', 'number_me']].values\n",
    "training_labels = df['age'].tolist()\n",
    "\n",
    "# Defining unknown points \n",
    "i_me_min = [df['number_i'].min(), df['number_me'].min()]\n",
    "i_me_max = [df['number_i'].max(), df['number_me'].max()]\n",
    "i_me_avg = [df['number_i'].median(), df['number_me'].median()]\n",
    "i_me_random = np.random.uniform(i_me_min, i_me_max)\n",
    "\n",
    "# And gathering them in a list\n",
    "guesses_list = [i_me_min, i_me_max, i_me_avg, i_me_random]"
   ]
  },
  {
   "cell_type": "code",
   "execution_count": 76,
   "metadata": {},
   "outputs": [
    {
     "data": {
      "text/plain": [
       "KNeighborsRegressor(algorithm='auto', leaf_size=30, metric='minkowski',\n",
       "                    metric_params=None, n_jobs=None, n_neighbors=3, p=2,\n",
       "                    weights='distance')"
      ]
     },
     "execution_count": 76,
     "metadata": {},
     "output_type": "execute_result"
    }
   ],
   "source": [
    "# Fitting the model \n",
    "regressor.fit(training_points, training_labels)"
   ]
  },
  {
   "cell_type": "code",
   "execution_count": 77,
   "metadata": {},
   "outputs": [
    {
     "name": "stdout",
     "output_type": "stream",
     "text": [
      "The model predicts that profiles that use 0 'i' and 0 'me' are 46 years old.\n",
      "\n",
      "The model predicts that profiles that use 689 'i' and 475 'me' are 42 years old.\n",
      "\n",
      "The model predicts that profiles that use 25.0 'i' and 3.0 'me' are 32 years old.\n",
      "\n",
      "The model predicts that profiles that use 164.0 'i' and 283.0 'me' are 34 years old.\n",
      "\n"
     ]
    }
   ],
   "source": [
    "# Using KNearest Neighbor Regressor's model to predict age based on number of \"i\" and \"me\" in essay\n",
    "# and providing an explanation \n",
    "\n",
    "for guess in guesses_list:\n",
    "    kneighbor_guesses = regressor.predict([guess])\n",
    "    print(\"The model predicts that profiles that use \" + str(round(guess[0])) + \" 'i' and \" + str(round(guess[1])) + \" 'me' are \" + '{:.2}'.format(str(kneighbor_guesses[0])) + \" years old.\\n\")\n"
   ]
  },
  {
   "cell_type": "code",
   "execution_count": null,
   "metadata": {},
   "outputs": [],
   "source": []
  },
  {
   "cell_type": "code",
   "execution_count": null,
   "metadata": {},
   "outputs": [],
   "source": []
  }
 ],
 "metadata": {
  "kernelspec": {
   "display_name": "Python 3",
   "language": "python",
   "name": "python3"
  },
  "language_info": {
   "codemirror_mode": {
    "name": "ipython",
    "version": 3
   },
   "file_extension": ".py",
   "mimetype": "text/x-python",
   "name": "python",
   "nbconvert_exporter": "python",
   "pygments_lexer": "ipython3",
   "version": "3.7.4"
  }
 },
 "nbformat": 4,
 "nbformat_minor": 2
}
