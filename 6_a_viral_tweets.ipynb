{
 "cells": [
  {
   "cell_type": "markdown",
   "metadata": {},
   "source": [
    "# Viral Tweets\n",
    "\n",
    "In this project, we are going to use the K-Nearest Neighbor algorithm to predict whether a tweet will go viral. Before jumping into using the classifier, let's first consider the problem we're trying to solve. Which features of a tweet are most closely linked to its popularity? Maybe the number of hashtags or the number of links in the tweet strongly influences its popularity. Maybe its virality is dependent on how many followers the person has. Maybe it's something more subtle like the specific language used in the tweets.\n",
    "\n",
    "Project from https://www.codecademy.com/paths/data-science/tracks/supervised-machine-learning-cumulative-project-skill-path/modules/supervised-learning-cumulative-project-skill-path/informationals/twitter-classification-cumulative-project-skill-path"
   ]
  },
  {
   "cell_type": "code",
   "execution_count": 1,
   "metadata": {},
   "outputs": [],
   "source": [
    "# Importing library, loading data and taking a look at investigating the data"
   ]
  },
  {
   "cell_type": "code",
   "execution_count": 2,
   "metadata": {},
   "outputs": [
    {
     "name": "stdout",
     "output_type": "stream",
     "text": [
      "11099\n",
      "Index(['created_at', 'id', 'id_str', 'text', 'truncated', 'entities',\n",
      "       'metadata', 'source', 'in_reply_to_status_id',\n",
      "       'in_reply_to_status_id_str', 'in_reply_to_user_id',\n",
      "       'in_reply_to_user_id_str', 'in_reply_to_screen_name', 'user', 'geo',\n",
      "       'coordinates', 'place', 'contributors', 'retweeted_status',\n",
      "       'is_quote_status', 'retweet_count', 'favorite_count', 'favorited',\n",
      "       'retweeted', 'lang', 'possibly_sensitive', 'quoted_status_id',\n",
      "       'quoted_status_id_str', 'extended_entities', 'quoted_status',\n",
      "       'withheld_in_countries'],\n",
      "      dtype='object')\n",
      "RT @KWWLStormTrack7: We are more than a month into summer but the days are getting shorter. The sunrise is about 25 minutes later on July 3…\n"
     ]
    }
   ],
   "source": [
    "import pandas as pd\n",
    "\n",
    "all_tweets = pd.read_json(\"random_tweets.json\", lines=True)\n",
    "\n",
    "# Total number of tweets in dataset \n",
    "print(len(all_tweets))\n",
    "# Columns/features of dataset\n",
    "print(all_tweets.columns)\n",
    "# Text of dataset's first tweet\n",
    "print(all_tweets.loc[0]['text'])"
   ]
  },
  {
   "cell_type": "code",
   "execution_count": 3,
   "metadata": {},
   "outputs": [
    {
     "name": "stdout",
     "output_type": "stream",
     "text": [
      "{'id': 145388018, 'id_str': '145388018', 'name': 'Derek Wolkenhauer', 'screen_name': 'derekw221', 'location': 'Waterloo, Iowa', 'description': '', 'url': None, 'entities': {'description': {'urls': []}}, 'protected': False, 'followers_count': 215, 'friends_count': 335, 'listed_count': 2, 'created_at': 'Tue May 18 21:30:10 +0000 2010', 'favourites_count': 3419, 'utc_offset': None, 'time_zone': None, 'geo_enabled': True, 'verified': False, 'statuses_count': 4475, 'lang': 'en', 'contributors_enabled': False, 'is_translator': False, 'is_translation_enabled': False, 'profile_background_color': '022330', 'profile_background_image_url': 'http://abs.twimg.com/images/themes/theme15/bg.png', 'profile_background_image_url_https': 'https://abs.twimg.com/images/themes/theme15/bg.png', 'profile_background_tile': False, 'profile_image_url': 'http://pbs.twimg.com/profile_images/995790590276243456/cgxRVviN_normal.jpg', 'profile_image_url_https': 'https://pbs.twimg.com/profile_images/995790590276243456/cgxRVviN_normal.jpg', 'profile_banner_url': 'https://pbs.twimg.com/profile_banners/145388018/1494937921', 'profile_link_color': '0084B4', 'profile_sidebar_border_color': 'A8C7F7', 'profile_sidebar_fill_color': 'C0DFEC', 'profile_text_color': '333333', 'profile_use_background_image': True, 'has_extended_profile': True, 'default_profile': False, 'default_profile_image': False, 'following': False, 'follow_request_sent': False, 'notifications': False, 'translator_type': 'none'}\n",
      "Waterloo, Iowa\n"
     ]
    }
   ],
   "source": [
    "# Checking what the \"user\" feature looks like\n",
    "print(all_tweets.loc[0][\"user\"])\n",
    "\n",
    "# Checking what the \"location\" looks like in user dictionary for first tweet \n",
    "print(all_tweets.loc[0][\"user\"][\"location\"])"
   ]
  },
  {
   "cell_type": "code",
   "execution_count": 4,
   "metadata": {},
   "outputs": [
    {
     "name": "stdout",
     "output_type": "stream",
     "text": [
      "13.0\n",
      "1    5591\n",
      "0    5508\n",
      "Name: is_viral, dtype: int64\n"
     ]
    }
   ],
   "source": [
    "# Defining viral tweets\n",
    "\n",
    "import numpy as np\n",
    "\n",
    "# creating new column with viral tweets: 1 if retweet_count is higher than median, else 0\n",
    "median_retweets = all_tweets['retweet_count'].median()\n",
    "print(median_retweets)\n",
    "all_tweets['is_viral'] = np.where(all_tweets['retweet_count'] >= median_retweets, 1, 0)\n",
    "\n",
    "# Counting number of tweets in each feature: viral or not\n",
    "print(all_tweets['is_viral'].value_counts())"
   ]
  },
  {
   "cell_type": "code",
   "execution_count": 5,
   "metadata": {},
   "outputs": [],
   "source": [
    "# Creating features possibly determining whether a tweet is viral\n",
    "\n",
    "# Feature_1: tweet_length\n",
    "all_tweets['tweet_length'] = all_tweets.apply(lambda tweet: len(tweet['text']), axis=1)\n",
    "\n",
    "# Feature_2: followers_count \n",
    "all_tweets['followers_count'] = [all_tweets.loc[i]['user']['followers_count'] for i in range(len(all_tweets))]\n",
    "\n",
    "# Feature_3: friends_count \n",
    "all_tweets['friends_count'] = [all_tweets.loc[i]['user']['friends_count'] for i in range(len(all_tweets))]\n",
    "\n",
    "# Feature_4: number of hashtags in tweet \n",
    "all_tweets['number_hashtags'] = all_tweets.apply(lambda tweet: tweet['text'].count(\"#\"), axis=1)\n",
    "# print(all_tweets['number_hashtags'].value_counts())\n",
    "\n",
    "# Feature_5: number of links in tweet \n",
    "all_tweets['number_links'] = all_tweets.apply(lambda tweet: tweet['text'].count(\"http\"), axis=1)\n",
    "# print(all_tweets['number_links'].value_counts())\n",
    "\n",
    "# Feature_6: number of words in tweet \n",
    "all_tweets['number_words_in_tweet'] = all_tweets.apply(lambda tweet: len(tweet['text'].split()), axis=1) \n",
    "# print(all_tweets['number_words_in_tweet'].value_counts())\n",
    "\n",
    "# Feature_7: average length of words in tweet \n",
    "all_tweets['words_in_tweet'] = all_tweets.apply(lambda tweet: tweet['text'].split(), axis=1) \n",
    "all_tweets['avg_length_words_in_tweet'] = [sum(map(len, all_tweets['words_in_tweet'][i])) / len(all_tweets['words_in_tweet'][i]) for i in range(len(all_tweets['words_in_tweet']))]\n",
    "# print(all_tweets['avg_length_words_in_tweet'].head())"
   ]
  },
  {
   "cell_type": "code",
   "execution_count": 6,
   "metadata": {},
   "outputs": [
    {
     "name": "stdout",
     "output_type": "stream",
     "text": [
      "[ 0.6164054  -0.02878298 -0.14483305]\n"
     ]
    }
   ],
   "source": [
    "# Normalizing the data \n",
    "\n",
    "# Gathering data and labels into variables\n",
    "labels = all_tweets['is_viral']\n",
    "data = all_tweets[['tweet_length', 'followers_count', 'friends_count']]\n",
    "\n",
    "\n",
    "\n",
    "# Scaling the data and more specifically the columns as oppposed to the rows, thanks to axis=0\n",
    "# scaling so all features vary within the same range\n",
    "\n",
    "from sklearn.preprocessing import scale\n",
    "\n",
    "scaled_data = scale(data,axis=0)\n",
    "print(scaled_data[0])\n"
   ]
  },
  {
   "cell_type": "code",
   "execution_count": 7,
   "metadata": {},
   "outputs": [],
   "source": [
    "# Creating the Training Set and Test Set\n",
    "from sklearn.model_selection import train_test_split\n",
    "train_data, test_data, train_labels, test_labels = train_test_split(scaled_data, labels, test_size=0.2, random_state=1)"
   ]
  },
  {
   "cell_type": "code",
   "execution_count": 8,
   "metadata": {},
   "outputs": [
    {
     "name": "stdout",
     "output_type": "stream",
     "text": [
      "0.5905405405405405\n"
     ]
    }
   ],
   "source": [
    "# Classifying the data \n",
    "from sklearn.neighbors import KNeighborsClassifier\n",
    "# Creating KNeighborsClassifier object \n",
    "classifier = KNeighborsClassifier(n_neighbors=5)\n",
    "\n",
    "# Training classifier \n",
    "classifier.fit(train_data, train_labels)\n",
    "\n",
    "# Testing the model\n",
    "print(classifier.score(test_data, test_labels))\n"
   ]
  },
  {
   "cell_type": "code",
   "execution_count": 9,
   "metadata": {},
   "outputs": [
    {
     "name": "stdout",
     "output_type": "stream",
     "text": [
      "0.5684684684684684\n"
     ]
    }
   ],
   "source": [
    "# Choosing K by testing different values of k and graphing results\n",
    "\n",
    "scores = []\n",
    "for k in range(1, 200):\n",
    "    classifier = KNeighborsClassifier(n_neighbors = k)\n",
    "    classifier.fit(train_data, train_labels)\n",
    "    score = classifier.score(test_data, test_labels)\n",
    "    scores.append(score)\n",
    "    \n",
    "print(scores[0])\n"
   ]
  },
  {
   "cell_type": "code",
   "execution_count": 10,
   "metadata": {},
   "outputs": [
    {
     "data": {
      "text/plain": [
       "<Figure size 640x480 with 1 Axes>"
      ]
     },
     "metadata": {},
     "output_type": "display_data"
    }
   ],
   "source": [
    "# plotting the results\n",
    "\n",
    "import matplotlib.pyplot as plt\n",
    "\n",
    "plt.plot(range(1, 200), scores)\n",
    "plt.title('Classifier Accuracy best on K value')\n",
    "plt.show()"
   ]
  },
  {
   "cell_type": "code",
   "execution_count": 11,
   "metadata": {},
   "outputs": [],
   "source": [
    "# Exploring further the data: \n",
    "# testing if other features would provide a better accuracy\n",
    "\n",
    "# Normalizing the data\n",
    "labels = all_tweets['is_viral']\n",
    "data = all_tweets[['number_hashtags', 'number_links', 'number_words_in_tweet', 'avg_length_words_in_tweet']]\n"
   ]
  },
  {
   "cell_type": "code",
   "execution_count": 12,
   "metadata": {},
   "outputs": [
    {
     "name": "stdout",
     "output_type": "stream",
     "text": [
      "[ 0.6164054  -0.02878298 -0.14483305]\n"
     ]
    }
   ],
   "source": [
    "# Scaling the data and more specifically the columns as oppposed to the rows, thanks to axis=0\n",
    "# scaling so all features vary within the same range\n",
    "\n",
    "from sklearn.preprocessing import scale\n",
    "\n",
    "scaled_data_new = scale(data,axis=0)\n",
    "print(scaled_data[0])\n"
   ]
  },
  {
   "cell_type": "code",
   "execution_count": 13,
   "metadata": {},
   "outputs": [],
   "source": [
    "# Creating the training set and test set \n",
    "from sklearn.model_selection import train_test_split\n",
    "train_data, test_data, train_labels, test_labels = train_test_split(scaled_data_new, labels, test_size=0.2, random_state=1)\n",
    "\n"
   ]
  },
  {
   "cell_type": "code",
   "execution_count": 14,
   "metadata": {},
   "outputs": [
    {
     "name": "stdout",
     "output_type": "stream",
     "text": [
      "0.7211711711711711\n"
     ]
    }
   ],
   "source": [
    "# Using the classifier\n",
    "from sklearn.neighbors import KNeighborsClassifier\n",
    "classifier_2 = KNeighborsClassifier(n_neighbors=5)\n",
    "classifier_2.fit(train_data, train_labels)\n",
    "print(classifier_2.score(test_data, test_labels))"
   ]
  },
  {
   "cell_type": "code",
   "execution_count": 15,
   "metadata": {},
   "outputs": [
    {
     "data": {
      "image/png": "[encoded data removed]",
      "text/plain": [
       "<Figure size 432x288 with 1 Axes>"
      ]
     },
     "metadata": {
      "needs_background": "light"
     },
     "output_type": "display_data"
    }
   ],
   "source": [
    "# Choosing K\n",
    "scores_ = []\n",
    "for k_2 in range(1, 200):\n",
    "    classifier_2 = KNeighborsClassifier(k_2)\n",
    "    classifier_2.fit(train_data, train_labels)\n",
    "    score_ = classifier_2.score(test_data, test_labels)\n",
    "    scores_.append(score_)\n",
    "plt.plot(range(1, 200), scores_)\n",
    "plt.title('Best accuracy based on K chosen')\n",
    "plt.show()"
   ]
  },
  {
   "cell_type": "markdown",
   "metadata": {},
   "source": [
    "Using the features: number of hashtags, number of links, number of words in tweet and average length of words in tweet, and with a K =5, the accuracy to predict whether a tweet will become viral is higher than using the three previous features: it is at 72% as opposed to 59% when building the model using the features tweet length, followers count, friends count. \n",
    "\n",
    "Increasing K would provide an even better accuracy, close to 74%. However, passed 25, the larger K, the lower the prediction - so K would need to be lower than 25 for our algorithm to be as accurate as possible using the 4 features mentioned (number of hashtags, number of links, number of words in tweet and average length of words in tweet)."
   ]
  },
  {
   "cell_type": "code",
   "execution_count": null,
   "metadata": {},
   "outputs": [],
   "source": []
  }
 ],
 "metadata": {
  "kernelspec": {
   "display_name": "Python 3",
   "language": "python",
   "name": "python3"
  },
  "language_info": {
   "codemirror_mode": {
    "name": "ipython",
    "version": 3
   },
   "file_extension": ".py",
   "mimetype": "text/x-python",
   "name": "python",
   "nbconvert_exporter": "python",
   "pygments_lexer": "ipython3",
   "version": "3.7.4"
  }
 },
 "nbformat": 4,
 "nbformat_minor": 2
}
